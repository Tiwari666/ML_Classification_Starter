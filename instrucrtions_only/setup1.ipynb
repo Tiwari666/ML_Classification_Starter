{
 "cells": [
  {
   "cell_type": "markdown",
   "id": "a308b642",
   "metadata": {},
   "source": [
    "\n",
    "1. conda create --name scikit_learn python=3.11 -y\n",
    "\n",
    "2. conda activate scikit_learn\n",
    "\n",
    "3. To verify whether or not the env is created: python --version\n",
    "\n",
    "you will see :Python 3.11.11::ython 3.11.11 — your environment is correctly activated, even if (scikit_learn) isn't showing due to terminal styling.\n"
   ]
  },
  {
   "cell_type": "markdown",
   "id": "1bd877b4",
   "metadata": {},
   "source": [
    "# Step-by-Step Learning Plan"
   ]
  },
  {
   "cell_type": "markdown",
   "id": "e74f7832",
   "metadata": {},
   "source": [
    "| 📘 **Topic**                  | 🔍 Learn From Docs                                                                                                                                             | 🧪 Practice in Notebook (`.ipynb`)          |\n",
    "| ----------------------------- | -------------------------------------------------------------------------------------------------------------------------------------------------------------- | ------------------------------------------- |\n",
    "| 1. **Variables & Data Types** | [https://docs.python.org/3/library/stdtypes.html](https://docs.python.org/3/library/stdtypes.html)                                                             | Define `int`, `float`, `str`, `bool`        |\n",
    "| 2. **Control Flow**           | [https://docs.python.org/3/tutorial/controlflow.html](https://docs.python.org/3/tutorial/controlflow.html)                                                     | `if`, `elif`, `else`, `for`, `while`        |\n",
    "| 3. **Functions**              | [https://docs.python.org/3/tutorial/controlflow.html#defining-functions](https://docs.python.org/3/tutorial/controlflow.html#defining-functions)               | Define simple `def greet():`                |\n",
    "| 4. **Modules & Imports**      | [https://docs.python.org/3/tutorial/modules.html](https://docs.python.org/3/tutorial/modules.html)                                                             | `import math`, `from random import randint` |\n",
    "| 5. **Built-in Functions**     | [https://docs.python.org/3/library/functions.html](https://docs.python.org/3/library/functions.html)                                                           | Try `len()`, `type()`, `range()`, etc.      |\n",
    "| 6. **File Handling**          | [https://docs.python.org/3/tutorial/inputoutput.html#reading-and-writing-files](https://docs.python.org/3/tutorial/inputoutput.html#reading-and-writing-files) | Open/write text files                       |\n",
    "| 7. **Error Handling**         | [https://docs.python.org/3/tutorial/errors.html](https://docs.python.org/3/tutorial/errors.html)                                                               | `try`, `except`, `finally`                  |\n",
    "| 8. **Object-Oriented Basics** | [https://docs.python.org/3/tutorial/classes.html](https://docs.python.org/3/tutorial/classes.html)                                                             | Simple class with `__init__`, method        |\n"
   ]
  },
  {
   "cell_type": "markdown",
   "id": "45e42dc9",
   "metadata": {},
   "source": [
    "# 🧪 Simple Classification Project (Using Python Docs & Scikit-Learn)\n",
    "\n",
    "---\n",
    "\n",
    "## ✅ Step 1: Import Required Libraries\n",
    "\n",
    "We'll use:\n",
    "- `make_classification` to create data\n",
    "- `train_test_split` to split data\n",
    "- `LogisticRegression` to train a model\n",
    "- `classification_report` to evaluate it\n",
    "- `matplotlib` to visualize data\n",
    "\n",
    "\n",
    "# Git Commands to Push project to the Git:\n",
    "\n",
    "code : cd \"C:\\Users\\naren\\Desktop\\New_DS\\scikit_learn\"\n",
    "\n",
    "git init\n",
    "\n",
    "git remote add origin https://github.com/Tiwari666/ML_Classification_Starter.git\n",
    "\n",
    "\n",
    "\n"
   ]
  },
  {
   "cell_type": "markdown",
   "id": "48178b7d",
   "metadata": {},
   "source": []
  }
 ],
 "metadata": {
  "language_info": {
   "name": "python"
  }
 },
 "nbformat": 4,
 "nbformat_minor": 5
}
