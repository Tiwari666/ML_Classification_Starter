{
 "cells": [
  {
   "cell_type": "markdown",
   "id": "2dbe8338",
   "metadata": {},
   "source": [
    "# Simple Classification Project (Using Python Docs & Scikit-Learn)\n",
    "\n",
    "---\n",
    "\n",
    "## ✅ Step 1: Import Required Libraries\n",
    "\n",
    "We'll use:\n",
    "- `make_classification` to create data\n",
    "- `train_test_split` to split data\n",
    "- `LogisticRegression` to train a model\n",
    "- `classification_report` to evaluate it\n",
    "- `matplotlib` to visualize data\n"
   ]
  },
  {
   "cell_type": "markdown",
   "id": "a88b4704",
   "metadata": {},
   "source": [
    "#  Confirming the same version as our Conda environment."
   ]
  },
  {
   "cell_type": "code",
   "execution_count": 1,
   "id": "4995dd30",
   "metadata": {},
   "outputs": [
    {
     "name": "stdout",
     "output_type": "stream",
     "text": [
      "Python 3.11.11\n"
     ]
    }
   ],
   "source": [
    "!python --version"
   ]
  },
  {
   "cell_type": "markdown",
   "id": "a9c6444c",
   "metadata": {},
   "source": [
    "# Link to make_classification documentation:\n",
    "\n",
    "🔗 https://scikit-learn.org/stable/modules/generated/sklearn.datasets.make_classification.html"
   ]
  },
  {
   "cell_type": "markdown",
   "id": "aa512dc8",
   "metadata": {},
   "source": [
    "from sklearn.datasets import make_classification\n",
    "\n",
    "| 📦 Part               | 🔍 Meaning                                                         |\n",
    "| --------------------- | ------------------------------------------------------------------ |\n",
    "| `sklearn`             | Package (Scikit-learn)                                             |\n",
    "| `datasets`            | Module inside `sklearn`                                            |\n",
    "| `make_classification` | Function (not method) that generates synthetic classification data |\n",
    "| `X, y = ...`          | Returns two objects: `X` (features), `y` (labels)                  |\n"
   ]
  },
  {
   "cell_type": "markdown",
   "id": "767515e7",
   "metadata": {},
   "source": [
    "# terminal code:\n",
    "\n",
    "conda create --name scikit_learn python=3.11\n",
    "\n",
    "conda activate scikit_learn\n",
    "\n",
    "pip install scikit-learn #  downloads and installs the library\n",
    "\n",
    "##### For a Simple (Kitchen Analogy):\n",
    "\n",
    "| 🧩 Term        | Meaning                              |\n",
    "| -------------- | ------------------------------------ |\n",
    "| `scikit-learn` | The **package name** used with `pip` |\n",
    "| `sklearn`      | The **module name** used in `import` |\n",
    "\n",
    "| 🔧 Concept                 | 🍳 Kitchen Analogy                                       |\n",
    "| -------------------------- | -------------------------------------------------------- |\n",
    "| `pip install scikit-learn` | 🛒 Go to the store and bring the ingredients (library)   |\n",
    "| `import sklearn`           | 🍳 Unpack the ingredients from the bag to use in cooking |\n",
    "\n",
    "\n",
    "pip install = bring tools or ingredients into VS Code (which was empty)\n",
    "\n",
    "import sklearn = now you're ready to use those ingredients in your recipe (code)\n",
    "##### For Technical Understanding:\n",
    "\n",
    "| 🧩 Term        | Meaning                                                           |\n",
    "| -------------- | ----------------------------------------------------------------- |\n",
    "| `scikit-learn` | The name of the library on [PyPI](https://pypi.org) used by `pip` |\n",
    "| `sklearn`      | The internal Python **module name** you use in `import`           |\n",
    "\n"
   ]
  },
  {
   "cell_type": "markdown",
   "id": "efdc110c",
   "metadata": {},
   "source": [
    "# Step 1: creating dat a in the form of ndarrays:\n",
    "\n",
    "These arrays do not have column names. They're just raw numbers.\n",
    "\n"
   ]
  },
  {
   "cell_type": "code",
   "execution_count": 9,
   "id": "b4179955",
   "metadata": {},
   "outputs": [],
   "source": [
    "#  This lets us use make_classification() to generate fake (but realistic) data for ML.\n",
    "from sklearn.datasets import make_classification\n",
    "\n",
    "# Official Docs Say:it will Return:\n",
    "\n",
    "# X: ndarray of shape (n_samples, n_features): A 2D array (like a table) of features → input data\n",
    "# X is a feature data → shape: (100, 5)\n",
    "\n",
    "# y: ndarray of shape (n_samples,): A 1D array of target labels (0 or 1) → output class\n",
    "# y is a label/target → shape: (100,)"
   ]
  },
  {
   "cell_type": "markdown",
   "id": "558bc719",
   "metadata": {},
   "source": [
    "See for arguments of X adn y here:\n",
    "\n",
    "https://scikit-learn.org/stable/modules/generated/sklearn.datasets.make_classification.html"
   ]
  },
  {
   "cell_type": "code",
   "execution_count": 8,
   "id": "2c9e968d",
   "metadata": {},
   "outputs": [],
   "source": [
    "X, y = make_classification(\n",
    "    n_samples=100,         # 100 rows (examples)\n",
    "    n_features=5,          # 5 features (columns)\n",
    "    n_informative=3,       # 3 features useful for classification\n",
    "    n_redundant=1,         # 1 redundant (linear combination)\n",
    "    n_classes=2,           # binary classification (0 or 1)\n",
    "    random_state=42        # reproducible results\n",
    ")"
   ]
  },
  {
   "cell_type": "code",
   "execution_count": null,
   "id": "7b1be2e8",
   "metadata": {},
   "outputs": [
    {
     "name": "stdout",
     "output_type": "stream",
     "text": [
      "[[ 0.06561344 -1.81431652 -0.84853401  0.27872303 -1.89816218]\n",
      " [ 1.9436449  -0.7812514  -0.78040602 -1.02038325 -0.17664666]]\n"
     ]
    }
   ],
   "source": [
    "print(X[:2])\n",
    "\n",
    "#print(X[:2]) means show the first two rows of the dataset stored in the NumPy array X."
   ]
  },
  {
   "cell_type": "code",
   "execution_count": 13,
   "id": "761d764c",
   "metadata": {},
   "outputs": [
    {
     "name": "stdout",
     "output_type": "stream",
     "text": [
      "(100, 5)\n",
      "(100,)\n"
     ]
    }
   ],
   "source": [
    "print(X.shape)\n",
    "print(y.shape)"
   ]
  },
  {
   "cell_type": "markdown",
   "id": "b9590602",
   "metadata": {},
   "source": [
    "# What does X.shape[1] mean?\n",
    "| Code         | Meaning                        |\n",
    "| ------------ | ------------------------------ |\n",
    "| `X.shape[0]` | Number of rows (100 samples)   |\n",
    "| `X.shape[1]` | Number of columns (5 features) |\n",
    "\n",
    "Every NumPy array has a .shape attribute, which tells us its size as a tuple:(rows, columns)=  (100, 5).\n",
    "\n"
   ]
  },
  {
   "cell_type": "code",
   "execution_count": 20,
   "id": "ca106f02",
   "metadata": {},
   "outputs": [
    {
     "data": {
      "text/plain": [
       "5"
      ]
     },
     "execution_count": 20,
     "metadata": {},
     "output_type": "execute_result"
    }
   ],
   "source": [
    "X.shape[1]"
   ]
  },
  {
   "cell_type": "code",
   "execution_count": 17,
   "id": "d36e799e",
   "metadata": {},
   "outputs": [
    {
     "data": {
      "text/plain": [
       "[np.int64(0), np.int64(1), np.int64(1), np.int64(1), np.int64(0)]"
      ]
     },
     "execution_count": 17,
     "metadata": {},
     "output_type": "execute_result"
    }
   ],
   "source": [
    "list(y[:5])\n",
    "\n",
    "# np.int64 is a class"
   ]
  },
  {
   "cell_type": "markdown",
   "id": "ec5315ae",
   "metadata": {},
   "source": [
    "| Part          | Is it a...    | Meaning                                            |\n",
    "| ------------- | ------------- | -------------------------------------------------- |\n",
    "| `np`          | Module        | NumPy library (imported as `np`)                   |\n",
    "| `np.int64`    | ✅ Class       | NumPy’s class for 64-bit integers                  |\n",
    "| `np.int64(1)` | ✅ Object      | An instance of the `np.int64` class with value `1` |\n",
    "| `x`           | ✅ Variable    | Stores the object `np.int64(1)`                    |\n",
    "| `1`           | Value / Input | The actual number stored in the object             |\n",
    "\n",
    "np.int64 = blueprint (class)\n",
    "\n",
    "np.int64(1) = real car made from that blueprint (object)\n",
    "\n",
    "x = np.int64(1) = naming the car \"x\""
   ]
  },
  {
   "cell_type": "markdown",
   "id": "4f368410",
   "metadata": {},
   "source": [
    "#   Step 2: Convert X and y to a DataFrame\n",
    "\n",
    "#### Documents:\n",
    "https://pandas.pydata.org/pandas-docs/stable/reference/api/pandas.DataFrame.html\n",
    "\n",
    "NumPy arrays (X, y) are harder to explore\n",
    "\n",
    "Pandas DataFrames make it easier to view, describe, and plot the data\n",
    "\n",
    "| Format           | Simple Analogy                      | Why It Matters                          |\n",
    "| ---------------- | ----------------------------------- | --------------------------------------- |\n",
    "| NumPy Array      | Raw ingredients in bags             | Hard to tell what each one is           |\n",
    "| Pandas DataFrame | Ingredients neatly labeled in bowls | Easy to see, label, and mix for cooking |\n",
    "\n",
    "\n",
    "### What It Means in Python:\n",
    "\n",
    "| Task                | NumPy Array (`X`)    | Pandas DataFrame (`df`)               |\n",
    "| ------------------- | -------------------- | ------------------------------------- |\n",
    "| See column names    | ❌ No column names    | ✅ Clear column names like `Feature_1` |\n",
    "| Preview rows easily | ❌ Uses array slices  | ✅ Use `df.head()`                     |\n",
    "| Describe stats      | ❌ Need manual code   | ✅ Use `df.describe()` in 1 line       |\n",
    "| Plot easily         | ⚠️ More setup needed | ✅ Built-in `.plot()` works instantly  |\n",
    "\n",
    "\n",
    "Pandas = A smart table for Python\n",
    "\n",
    "It helps us explore, clean, and analyze our data easily.\n",
    "\n"
   ]
  },
  {
   "cell_type": "markdown",
   "id": "0529353d",
   "metadata": {},
   "source": [
    "# Terminal code: \n",
    "pip install pandas"
   ]
  },
  {
   "cell_type": "code",
   "execution_count": 19,
   "id": "cde5a37a",
   "metadata": {},
   "outputs": [],
   "source": [
    "# This imports the Pandas library into your notebook and gives it a short name: pd.\n",
    "import pandas as pd"
   ]
  },
  {
   "cell_type": "code",
   "execution_count": 21,
   "id": "eede69d3",
   "metadata": {},
   "outputs": [],
   "source": [
    "df = pd.DataFrame(X, columns=[f\"Feature_{i+1}\" for i in range(X.shape[1])])"
   ]
  },
  {
   "cell_type": "markdown",
   "id": "5f55bc55",
   "metadata": {},
   "source": [
    "\n",
    "| Argument in Docs | our Code Value                                   | Meaning (Beginner)                                                          |\n",
    "| ---------------- | ----------------------------------------------- | -------------------------------------------------------------------------- |\n",
    "| `data`           | `X`                                             | The actual raw data (100 rows × 5 columns NumPy array)                     |\n",
    "| `index`          | *not given* → defaults to `0, 1, 2, ..., 99`    | Auto-generated row numbers                                                 |\n",
    "| `columns`        | `[f\"Feature_{i+1}\" for i in range(X.shape[1])]` | A list: `['Feature_1', 'Feature_2', ..., 'Feature_5']` → adds column names |\n",
    "| `dtype`          | *not given*                                     | Pandas automatically guesses data types (e.g., float64)                    |\n",
    "| `copy`           | *not given*                                     | Uses the original data directly (no deep copy unless needed)               |\n"
   ]
  },
  {
   "cell_type": "markdown",
   "id": "abc730ca",
   "metadata": {},
   "source": [
    "\n",
    "| Part         | Meaning                                         |\n",
    "| ------------ | ----------------------------------------------- |\n",
    "| `f\"...\"`     | Tells Python to **evaluate inside braces `{}`** |\n",
    "| `\"Feature_\"` | A fixed string (the prefix)                     |\n",
    "| `{i+1}`      | Inserts the value of `i+1` dynamically          |\n",
    "\n",
    "\n",
    "[f\"Feature_{i+1}\" for i in range(X.shape[1])]:\n",
    "List Comprehension?\n",
    "A shortcut way to create a list in one line, using a loop inside square brackets.\n",
    "\n",
    "\n",
    "| Part                | Meaning                                        |\n",
    "| ------------------- | ---------------------------------------------- |\n",
    "| `range(X.shape[1])` | Gives column indices: `[0, 1, 2, 3, 4]`        |\n",
    "| `f\"Feature_{i+1}\"`  | Makes strings: `'Feature_1', ..., 'Feature_5'` |\n",
    "| Entire expression   | Creates a list of column names                 |\n"
   ]
  },
  {
   "cell_type": "code",
   "execution_count": 22,
   "id": "bd6b1881",
   "metadata": {},
   "outputs": [
    {
     "data": {
      "text/html": [
       "<div>\n",
       "<style scoped>\n",
       "    .dataframe tbody tr th:only-of-type {\n",
       "        vertical-align: middle;\n",
       "    }\n",
       "\n",
       "    .dataframe tbody tr th {\n",
       "        vertical-align: top;\n",
       "    }\n",
       "\n",
       "    .dataframe thead th {\n",
       "        text-align: right;\n",
       "    }\n",
       "</style>\n",
       "<table border=\"1\" class=\"dataframe\">\n",
       "  <thead>\n",
       "    <tr style=\"text-align: right;\">\n",
       "      <th></th>\n",
       "      <th>Feature_1</th>\n",
       "      <th>Feature_2</th>\n",
       "      <th>Feature_3</th>\n",
       "      <th>Feature_4</th>\n",
       "      <th>Feature_5</th>\n",
       "    </tr>\n",
       "  </thead>\n",
       "  <tbody>\n",
       "    <tr>\n",
       "      <th>0</th>\n",
       "      <td>0.065613</td>\n",
       "      <td>-1.814317</td>\n",
       "      <td>-0.848534</td>\n",
       "      <td>0.278723</td>\n",
       "      <td>-1.898162</td>\n",
       "    </tr>\n",
       "    <tr>\n",
       "      <th>1</th>\n",
       "      <td>1.943645</td>\n",
       "      <td>-0.781251</td>\n",
       "      <td>-0.780406</td>\n",
       "      <td>-1.020383</td>\n",
       "      <td>-0.176647</td>\n",
       "    </tr>\n",
       "    <tr>\n",
       "      <th>2</th>\n",
       "      <td>2.215437</td>\n",
       "      <td>-1.591460</td>\n",
       "      <td>-1.754176</td>\n",
       "      <td>-0.157724</td>\n",
       "      <td>0.875586</td>\n",
       "    </tr>\n",
       "    <tr>\n",
       "      <th>3</th>\n",
       "      <td>2.248896</td>\n",
       "      <td>1.438831</td>\n",
       "      <td>1.071276</td>\n",
       "      <td>0.166088</td>\n",
       "      <td>-0.733065</td>\n",
       "    </tr>\n",
       "    <tr>\n",
       "      <th>4</th>\n",
       "      <td>1.398888</td>\n",
       "      <td>1.603281</td>\n",
       "      <td>1.307294</td>\n",
       "      <td>-2.452265</td>\n",
       "      <td>-0.763596</td>\n",
       "    </tr>\n",
       "  </tbody>\n",
       "</table>\n",
       "</div>"
      ],
      "text/plain": [
       "   Feature_1  Feature_2  Feature_3  Feature_4  Feature_5\n",
       "0   0.065613  -1.814317  -0.848534   0.278723  -1.898162\n",
       "1   1.943645  -0.781251  -0.780406  -1.020383  -0.176647\n",
       "2   2.215437  -1.591460  -1.754176  -0.157724   0.875586\n",
       "3   2.248896   1.438831   1.071276   0.166088  -0.733065\n",
       "4   1.398888   1.603281   1.307294  -2.452265  -0.763596"
      ]
     },
     "execution_count": 22,
     "metadata": {},
     "output_type": "execute_result"
    }
   ],
   "source": [
    "df.head()"
   ]
  },
  {
   "cell_type": "markdown",
   "id": "972141a6",
   "metadata": {},
   "source": [
    "#  Add the Target Column (Labels)"
   ]
  },
  {
   "cell_type": "code",
   "execution_count": 23,
   "id": "d297fb7b",
   "metadata": {},
   "outputs": [
    {
     "data": {
      "text/html": [
       "<div>\n",
       "<style scoped>\n",
       "    .dataframe tbody tr th:only-of-type {\n",
       "        vertical-align: middle;\n",
       "    }\n",
       "\n",
       "    .dataframe tbody tr th {\n",
       "        vertical-align: top;\n",
       "    }\n",
       "\n",
       "    .dataframe thead th {\n",
       "        text-align: right;\n",
       "    }\n",
       "</style>\n",
       "<table border=\"1\" class=\"dataframe\">\n",
       "  <thead>\n",
       "    <tr style=\"text-align: right;\">\n",
       "      <th></th>\n",
       "      <th>Feature_1</th>\n",
       "      <th>Feature_2</th>\n",
       "      <th>Feature_3</th>\n",
       "      <th>Feature_4</th>\n",
       "      <th>Feature_5</th>\n",
       "      <th>Target</th>\n",
       "    </tr>\n",
       "  </thead>\n",
       "  <tbody>\n",
       "    <tr>\n",
       "      <th>0</th>\n",
       "      <td>0.065613</td>\n",
       "      <td>-1.814317</td>\n",
       "      <td>-0.848534</td>\n",
       "      <td>0.278723</td>\n",
       "      <td>-1.898162</td>\n",
       "      <td>0</td>\n",
       "    </tr>\n",
       "    <tr>\n",
       "      <th>1</th>\n",
       "      <td>1.943645</td>\n",
       "      <td>-0.781251</td>\n",
       "      <td>-0.780406</td>\n",
       "      <td>-1.020383</td>\n",
       "      <td>-0.176647</td>\n",
       "      <td>1</td>\n",
       "    </tr>\n",
       "    <tr>\n",
       "      <th>2</th>\n",
       "      <td>2.215437</td>\n",
       "      <td>-1.591460</td>\n",
       "      <td>-1.754176</td>\n",
       "      <td>-0.157724</td>\n",
       "      <td>0.875586</td>\n",
       "      <td>1</td>\n",
       "    </tr>\n",
       "    <tr>\n",
       "      <th>3</th>\n",
       "      <td>2.248896</td>\n",
       "      <td>1.438831</td>\n",
       "      <td>1.071276</td>\n",
       "      <td>0.166088</td>\n",
       "      <td>-0.733065</td>\n",
       "      <td>1</td>\n",
       "    </tr>\n",
       "    <tr>\n",
       "      <th>4</th>\n",
       "      <td>1.398888</td>\n",
       "      <td>1.603281</td>\n",
       "      <td>1.307294</td>\n",
       "      <td>-2.452265</td>\n",
       "      <td>-0.763596</td>\n",
       "      <td>0</td>\n",
       "    </tr>\n",
       "  </tbody>\n",
       "</table>\n",
       "</div>"
      ],
      "text/plain": [
       "   Feature_1  Feature_2  Feature_3  Feature_4  Feature_5  Target\n",
       "0   0.065613  -1.814317  -0.848534   0.278723  -1.898162       0\n",
       "1   1.943645  -0.781251  -0.780406  -1.020383  -0.176647       1\n",
       "2   2.215437  -1.591460  -1.754176  -0.157724   0.875586       1\n",
       "3   2.248896   1.438831   1.071276   0.166088  -0.733065       1\n",
       "4   1.398888   1.603281   1.307294  -2.452265  -0.763596       0"
      ]
     },
     "execution_count": 23,
     "metadata": {},
     "output_type": "execute_result"
    }
   ],
   "source": [
    "df[\"Target\"] = y\n",
    "df.head()"
   ]
  },
  {
   "cell_type": "markdown",
   "id": "37780d09",
   "metadata": {},
   "source": [
    "| Parameter     | What It Controls                        |\n",
    "| ------------- | --------------------------------------- |\n",
    "| `n_classes=2` | Generates 2 types of labels → 0 and 1   |\n",
    "| `y` Output    | Will be like: `[1, 0, 0, 1, 1, 0, ...]` |\n"
   ]
  },
  {
   "cell_type": "code",
   "execution_count": 24,
   "id": "c31d9cab",
   "metadata": {},
   "outputs": [
    {
     "name": "stdout",
     "output_type": "stream",
     "text": [
      "<class 'pandas.core.frame.DataFrame'>\n",
      "RangeIndex: 100 entries, 0 to 99\n",
      "Data columns (total 6 columns):\n",
      " #   Column     Non-Null Count  Dtype  \n",
      "---  ------     --------------  -----  \n",
      " 0   Feature_1  100 non-null    float64\n",
      " 1   Feature_2  100 non-null    float64\n",
      " 2   Feature_3  100 non-null    float64\n",
      " 3   Feature_4  100 non-null    float64\n",
      " 4   Feature_5  100 non-null    float64\n",
      " 5   Target     100 non-null    int64  \n",
      "dtypes: float64(5), int64(1)\n",
      "memory usage: 4.8 KB\n"
     ]
    }
   ],
   "source": [
    "df.info()"
   ]
  },
  {
   "cell_type": "code",
   "execution_count": 25,
   "id": "149665a7",
   "metadata": {},
   "outputs": [
    {
     "data": {
      "text/plain": [
       "Feature_1    0\n",
       "Feature_2    0\n",
       "Feature_3    0\n",
       "Feature_4    0\n",
       "Feature_5    0\n",
       "Target       0\n",
       "dtype: int64"
      ]
     },
     "execution_count": 25,
     "metadata": {},
     "output_type": "execute_result"
    }
   ],
   "source": [
    "df.isnull().sum()"
   ]
  },
  {
   "cell_type": "code",
   "execution_count": 28,
   "id": "c1c85086",
   "metadata": {},
   "outputs": [
    {
     "data": {
      "text/plain": [
       "Index(['Feature_1', 'Feature_2', 'Feature_3', 'Feature_4', 'Feature_5',\n",
       "       'Target'],\n",
       "      dtype='object')"
      ]
     },
     "execution_count": 28,
     "metadata": {},
     "output_type": "execute_result"
    }
   ],
   "source": [
    "df.columns"
   ]
  },
  {
   "cell_type": "markdown",
   "id": "06786b38",
   "metadata": {},
   "source": [
    "# Train a Simple Classifier\n",
    "\n",
    "Let’s use Logistic Regression to classify the data.\n",
    "\n",
    "Doc: https://scikit-learn.org/stable/modules/generated/sklearn.linear_model.LogisticRegression.html"
   ]
  },
  {
   "cell_type": "code",
   "execution_count": 26,
   "id": "edd80886",
   "metadata": {},
   "outputs": [],
   "source": [
    "from sklearn.linear_model import LogisticRegression"
   ]
  },
  {
   "cell_type": "markdown",
   "id": "7896e706",
   "metadata": {},
   "source": [
    "| Part                 | Type    | Meaning                                                     |\n",
    "| -------------------- | ------- | ----------------------------------------------------------- |\n",
    "| `sklearn`            | Package | The main Scikit-learn library                               |\n",
    "| `linear_model`       | Module  | A submodule with linear models (regression, classification) |\n",
    "| `LogisticRegression` | Class   | A class that builds logistic regression models              |\n"
   ]
  },
  {
   "cell_type": "markdown",
   "id": "1c7dd272",
   "metadata": {},
   "source": [
    "# Split the Data\n",
    "\n",
    "link: https://scikit-learn.org/stable/modules/generated/sklearn.model_selection.train_test_split.html\n",
    "\n",
    "#### general syntax: \n",
    "sklearn.model_selection.train_test_split(*arrays, test_size=None, train_size=None, random_state=None, shuffle=True, stratify=None)\n",
    "\n",
    "### None: \n",
    "When a parameter is shown as =None, it means:If you don’t provide it, Python uses a default internal rule or behavior.\n",
    "\n",
    "#### What is None in Python?\n",
    "\n",
    "| Term   | Meaning                                                  |\n",
    "| ------ | -------------------------------------------------------- |\n",
    "| `None` | A special value meaning “nothing”, “empty”, or “not set” |\n",
    "\n",
    "####  Example:\n",
    "\n",
    "train_test_split(X, y)  # No test_size → uses default\n",
    "\n",
    "Python will:\n",
    "\n",
    "use default test_size=0.25\n",
    "\n",
    "automatically compute train_size=0.75\n",
    "\n",
    "| When You See...  | It Means...                                    |\n",
    "| ---------------- | ---------------------------------------------- |\n",
    "| `test_size=None` | Optional — Python will handle it if omitted    |\n",
    "| `dtype=None`     | Optional — Pandas guesses data type            |\n",
    "| `columns=None`   | Optional — Column names will be auto-generated |\n",
    "\n",
    "\n"
   ]
  },
  {
   "cell_type": "code",
   "execution_count": 33,
   "id": "e3faf0d2",
   "metadata": {},
   "outputs": [],
   "source": [
    "from sklearn.model_selection import train_test_split \n",
    "# Hey Python, from the scikit-learn package, go into the model_selection module, and give me the function train_test_split."
   ]
  },
  {
   "cell_type": "markdown",
   "id": "39685c74",
   "metadata": {},
   "source": [
    "| 🔹 Part            | 🔍 Type  | ✅ Meaning (Beginner-Friendly)                          |\n",
    "| ------------------ | -------- | ------------------------------------------------------ |\n",
    "| `sklearn`          | Package  | Main machine learning library (scikit-learn)           |\n",
    "| `model_selection`  | Module   | A submodule for splitting data, cross-validation, etc. |\n",
    "| `train_test_split` | Function | Splits our dataset into training and testing sets     |\n"
   ]
  },
  {
   "cell_type": "code",
   "execution_count": 29,
   "id": "7c6b3830",
   "metadata": {},
   "outputs": [],
   "source": [
    "X_train, X_test, y_train, y_test = train_test_split(\n",
    "    X, y, test_size=0.2, random_state=42\n",
    ")"
   ]
  },
  {
   "cell_type": "markdown",
   "id": "e80a7cec",
   "metadata": {},
   "source": [
    "# Train the model\n",
    "\n",
    "Link: https://scikit-learn.org/stable/modules/generated/sklearn.linear_model.LogisticRegression.html\n",
    "\n",
    "| Code                                  | What It Does                     |\n",
    "| ------------------------------------- | -------------------------------- |\n",
    "| `model = LogisticRegression()`        | Create model (step 1)            |\n",
    "| `model.fit(X_train, y_train)`         | Train model (step 2)             |\n",
    "| `model = LogisticRegression(...).fit()` | Create + train + assign (1-line) |\n"
   ]
  },
  {
   "cell_type": "code",
   "execution_count": 35,
   "id": "7f669a06",
   "metadata": {},
   "outputs": [],
   "source": [
    "model = LogisticRegression(random_state=0)"
   ]
  },
  {
   "cell_type": "markdown",
   "id": "e7149781",
   "metadata": {},
   "source": [
    "#  Fit the model"
   ]
  },
  {
   "cell_type": "code",
   "execution_count": 36,
   "id": "138b27ee",
   "metadata": {},
   "outputs": [
    {
     "data": {
      "text/html": [
       "<style>#sk-container-id-1 {\n",
       "  /* Definition of color scheme common for light and dark mode */\n",
       "  --sklearn-color-text: #000;\n",
       "  --sklearn-color-text-muted: #666;\n",
       "  --sklearn-color-line: gray;\n",
       "  /* Definition of color scheme for unfitted estimators */\n",
       "  --sklearn-color-unfitted-level-0: #fff5e6;\n",
       "  --sklearn-color-unfitted-level-1: #f6e4d2;\n",
       "  --sklearn-color-unfitted-level-2: #ffe0b3;\n",
       "  --sklearn-color-unfitted-level-3: chocolate;\n",
       "  /* Definition of color scheme for fitted estimators */\n",
       "  --sklearn-color-fitted-level-0: #f0f8ff;\n",
       "  --sklearn-color-fitted-level-1: #d4ebff;\n",
       "  --sklearn-color-fitted-level-2: #b3dbfd;\n",
       "  --sklearn-color-fitted-level-3: cornflowerblue;\n",
       "\n",
       "  /* Specific color for light theme */\n",
       "  --sklearn-color-text-on-default-background: var(--sg-text-color, var(--theme-code-foreground, var(--jp-content-font-color1, black)));\n",
       "  --sklearn-color-background: var(--sg-background-color, var(--theme-background, var(--jp-layout-color0, white)));\n",
       "  --sklearn-color-border-box: var(--sg-text-color, var(--theme-code-foreground, var(--jp-content-font-color1, black)));\n",
       "  --sklearn-color-icon: #696969;\n",
       "\n",
       "  @media (prefers-color-scheme: dark) {\n",
       "    /* Redefinition of color scheme for dark theme */\n",
       "    --sklearn-color-text-on-default-background: var(--sg-text-color, var(--theme-code-foreground, var(--jp-content-font-color1, white)));\n",
       "    --sklearn-color-background: var(--sg-background-color, var(--theme-background, var(--jp-layout-color0, #111)));\n",
       "    --sklearn-color-border-box: var(--sg-text-color, var(--theme-code-foreground, var(--jp-content-font-color1, white)));\n",
       "    --sklearn-color-icon: #878787;\n",
       "  }\n",
       "}\n",
       "\n",
       "#sk-container-id-1 {\n",
       "  color: var(--sklearn-color-text);\n",
       "}\n",
       "\n",
       "#sk-container-id-1 pre {\n",
       "  padding: 0;\n",
       "}\n",
       "\n",
       "#sk-container-id-1 input.sk-hidden--visually {\n",
       "  border: 0;\n",
       "  clip: rect(1px 1px 1px 1px);\n",
       "  clip: rect(1px, 1px, 1px, 1px);\n",
       "  height: 1px;\n",
       "  margin: -1px;\n",
       "  overflow: hidden;\n",
       "  padding: 0;\n",
       "  position: absolute;\n",
       "  width: 1px;\n",
       "}\n",
       "\n",
       "#sk-container-id-1 div.sk-dashed-wrapped {\n",
       "  border: 1px dashed var(--sklearn-color-line);\n",
       "  margin: 0 0.4em 0.5em 0.4em;\n",
       "  box-sizing: border-box;\n",
       "  padding-bottom: 0.4em;\n",
       "  background-color: var(--sklearn-color-background);\n",
       "}\n",
       "\n",
       "#sk-container-id-1 div.sk-container {\n",
       "  /* jupyter's `normalize.less` sets `[hidden] { display: none; }`\n",
       "     but bootstrap.min.css set `[hidden] { display: none !important; }`\n",
       "     so we also need the `!important` here to be able to override the\n",
       "     default hidden behavior on the sphinx rendered scikit-learn.org.\n",
       "     See: https://github.com/scikit-learn/scikit-learn/issues/21755 */\n",
       "  display: inline-block !important;\n",
       "  position: relative;\n",
       "}\n",
       "\n",
       "#sk-container-id-1 div.sk-text-repr-fallback {\n",
       "  display: none;\n",
       "}\n",
       "\n",
       "div.sk-parallel-item,\n",
       "div.sk-serial,\n",
       "div.sk-item {\n",
       "  /* draw centered vertical line to link estimators */\n",
       "  background-image: linear-gradient(var(--sklearn-color-text-on-default-background), var(--sklearn-color-text-on-default-background));\n",
       "  background-size: 2px 100%;\n",
       "  background-repeat: no-repeat;\n",
       "  background-position: center center;\n",
       "}\n",
       "\n",
       "/* Parallel-specific style estimator block */\n",
       "\n",
       "#sk-container-id-1 div.sk-parallel-item::after {\n",
       "  content: \"\";\n",
       "  width: 100%;\n",
       "  border-bottom: 2px solid var(--sklearn-color-text-on-default-background);\n",
       "  flex-grow: 1;\n",
       "}\n",
       "\n",
       "#sk-container-id-1 div.sk-parallel {\n",
       "  display: flex;\n",
       "  align-items: stretch;\n",
       "  justify-content: center;\n",
       "  background-color: var(--sklearn-color-background);\n",
       "  position: relative;\n",
       "}\n",
       "\n",
       "#sk-container-id-1 div.sk-parallel-item {\n",
       "  display: flex;\n",
       "  flex-direction: column;\n",
       "}\n",
       "\n",
       "#sk-container-id-1 div.sk-parallel-item:first-child::after {\n",
       "  align-self: flex-end;\n",
       "  width: 50%;\n",
       "}\n",
       "\n",
       "#sk-container-id-1 div.sk-parallel-item:last-child::after {\n",
       "  align-self: flex-start;\n",
       "  width: 50%;\n",
       "}\n",
       "\n",
       "#sk-container-id-1 div.sk-parallel-item:only-child::after {\n",
       "  width: 0;\n",
       "}\n",
       "\n",
       "/* Serial-specific style estimator block */\n",
       "\n",
       "#sk-container-id-1 div.sk-serial {\n",
       "  display: flex;\n",
       "  flex-direction: column;\n",
       "  align-items: center;\n",
       "  background-color: var(--sklearn-color-background);\n",
       "  padding-right: 1em;\n",
       "  padding-left: 1em;\n",
       "}\n",
       "\n",
       "\n",
       "/* Toggleable style: style used for estimator/Pipeline/ColumnTransformer box that is\n",
       "clickable and can be expanded/collapsed.\n",
       "- Pipeline and ColumnTransformer use this feature and define the default style\n",
       "- Estimators will overwrite some part of the style using the `sk-estimator` class\n",
       "*/\n",
       "\n",
       "/* Pipeline and ColumnTransformer style (default) */\n",
       "\n",
       "#sk-container-id-1 div.sk-toggleable {\n",
       "  /* Default theme specific background. It is overwritten whether we have a\n",
       "  specific estimator or a Pipeline/ColumnTransformer */\n",
       "  background-color: var(--sklearn-color-background);\n",
       "}\n",
       "\n",
       "/* Toggleable label */\n",
       "#sk-container-id-1 label.sk-toggleable__label {\n",
       "  cursor: pointer;\n",
       "  display: flex;\n",
       "  width: 100%;\n",
       "  margin-bottom: 0;\n",
       "  padding: 0.5em;\n",
       "  box-sizing: border-box;\n",
       "  text-align: center;\n",
       "  align-items: start;\n",
       "  justify-content: space-between;\n",
       "  gap: 0.5em;\n",
       "}\n",
       "\n",
       "#sk-container-id-1 label.sk-toggleable__label .caption {\n",
       "  font-size: 0.6rem;\n",
       "  font-weight: lighter;\n",
       "  color: var(--sklearn-color-text-muted);\n",
       "}\n",
       "\n",
       "#sk-container-id-1 label.sk-toggleable__label-arrow:before {\n",
       "  /* Arrow on the left of the label */\n",
       "  content: \"▸\";\n",
       "  float: left;\n",
       "  margin-right: 0.25em;\n",
       "  color: var(--sklearn-color-icon);\n",
       "}\n",
       "\n",
       "#sk-container-id-1 label.sk-toggleable__label-arrow:hover:before {\n",
       "  color: var(--sklearn-color-text);\n",
       "}\n",
       "\n",
       "/* Toggleable content - dropdown */\n",
       "\n",
       "#sk-container-id-1 div.sk-toggleable__content {\n",
       "  max-height: 0;\n",
       "  max-width: 0;\n",
       "  overflow: hidden;\n",
       "  text-align: left;\n",
       "  /* unfitted */\n",
       "  background-color: var(--sklearn-color-unfitted-level-0);\n",
       "}\n",
       "\n",
       "#sk-container-id-1 div.sk-toggleable__content.fitted {\n",
       "  /* fitted */\n",
       "  background-color: var(--sklearn-color-fitted-level-0);\n",
       "}\n",
       "\n",
       "#sk-container-id-1 div.sk-toggleable__content pre {\n",
       "  margin: 0.2em;\n",
       "  border-radius: 0.25em;\n",
       "  color: var(--sklearn-color-text);\n",
       "  /* unfitted */\n",
       "  background-color: var(--sklearn-color-unfitted-level-0);\n",
       "}\n",
       "\n",
       "#sk-container-id-1 div.sk-toggleable__content.fitted pre {\n",
       "  /* unfitted */\n",
       "  background-color: var(--sklearn-color-fitted-level-0);\n",
       "}\n",
       "\n",
       "#sk-container-id-1 input.sk-toggleable__control:checked~div.sk-toggleable__content {\n",
       "  /* Expand drop-down */\n",
       "  max-height: 200px;\n",
       "  max-width: 100%;\n",
       "  overflow: auto;\n",
       "}\n",
       "\n",
       "#sk-container-id-1 input.sk-toggleable__control:checked~label.sk-toggleable__label-arrow:before {\n",
       "  content: \"▾\";\n",
       "}\n",
       "\n",
       "/* Pipeline/ColumnTransformer-specific style */\n",
       "\n",
       "#sk-container-id-1 div.sk-label input.sk-toggleable__control:checked~label.sk-toggleable__label {\n",
       "  color: var(--sklearn-color-text);\n",
       "  background-color: var(--sklearn-color-unfitted-level-2);\n",
       "}\n",
       "\n",
       "#sk-container-id-1 div.sk-label.fitted input.sk-toggleable__control:checked~label.sk-toggleable__label {\n",
       "  background-color: var(--sklearn-color-fitted-level-2);\n",
       "}\n",
       "\n",
       "/* Estimator-specific style */\n",
       "\n",
       "/* Colorize estimator box */\n",
       "#sk-container-id-1 div.sk-estimator input.sk-toggleable__control:checked~label.sk-toggleable__label {\n",
       "  /* unfitted */\n",
       "  background-color: var(--sklearn-color-unfitted-level-2);\n",
       "}\n",
       "\n",
       "#sk-container-id-1 div.sk-estimator.fitted input.sk-toggleable__control:checked~label.sk-toggleable__label {\n",
       "  /* fitted */\n",
       "  background-color: var(--sklearn-color-fitted-level-2);\n",
       "}\n",
       "\n",
       "#sk-container-id-1 div.sk-label label.sk-toggleable__label,\n",
       "#sk-container-id-1 div.sk-label label {\n",
       "  /* The background is the default theme color */\n",
       "  color: var(--sklearn-color-text-on-default-background);\n",
       "}\n",
       "\n",
       "/* On hover, darken the color of the background */\n",
       "#sk-container-id-1 div.sk-label:hover label.sk-toggleable__label {\n",
       "  color: var(--sklearn-color-text);\n",
       "  background-color: var(--sklearn-color-unfitted-level-2);\n",
       "}\n",
       "\n",
       "/* Label box, darken color on hover, fitted */\n",
       "#sk-container-id-1 div.sk-label.fitted:hover label.sk-toggleable__label.fitted {\n",
       "  color: var(--sklearn-color-text);\n",
       "  background-color: var(--sklearn-color-fitted-level-2);\n",
       "}\n",
       "\n",
       "/* Estimator label */\n",
       "\n",
       "#sk-container-id-1 div.sk-label label {\n",
       "  font-family: monospace;\n",
       "  font-weight: bold;\n",
       "  display: inline-block;\n",
       "  line-height: 1.2em;\n",
       "}\n",
       "\n",
       "#sk-container-id-1 div.sk-label-container {\n",
       "  text-align: center;\n",
       "}\n",
       "\n",
       "/* Estimator-specific */\n",
       "#sk-container-id-1 div.sk-estimator {\n",
       "  font-family: monospace;\n",
       "  border: 1px dotted var(--sklearn-color-border-box);\n",
       "  border-radius: 0.25em;\n",
       "  box-sizing: border-box;\n",
       "  margin-bottom: 0.5em;\n",
       "  /* unfitted */\n",
       "  background-color: var(--sklearn-color-unfitted-level-0);\n",
       "}\n",
       "\n",
       "#sk-container-id-1 div.sk-estimator.fitted {\n",
       "  /* fitted */\n",
       "  background-color: var(--sklearn-color-fitted-level-0);\n",
       "}\n",
       "\n",
       "/* on hover */\n",
       "#sk-container-id-1 div.sk-estimator:hover {\n",
       "  /* unfitted */\n",
       "  background-color: var(--sklearn-color-unfitted-level-2);\n",
       "}\n",
       "\n",
       "#sk-container-id-1 div.sk-estimator.fitted:hover {\n",
       "  /* fitted */\n",
       "  background-color: var(--sklearn-color-fitted-level-2);\n",
       "}\n",
       "\n",
       "/* Specification for estimator info (e.g. \"i\" and \"?\") */\n",
       "\n",
       "/* Common style for \"i\" and \"?\" */\n",
       "\n",
       ".sk-estimator-doc-link,\n",
       "a:link.sk-estimator-doc-link,\n",
       "a:visited.sk-estimator-doc-link {\n",
       "  float: right;\n",
       "  font-size: smaller;\n",
       "  line-height: 1em;\n",
       "  font-family: monospace;\n",
       "  background-color: var(--sklearn-color-background);\n",
       "  border-radius: 1em;\n",
       "  height: 1em;\n",
       "  width: 1em;\n",
       "  text-decoration: none !important;\n",
       "  margin-left: 0.5em;\n",
       "  text-align: center;\n",
       "  /* unfitted */\n",
       "  border: var(--sklearn-color-unfitted-level-1) 1pt solid;\n",
       "  color: var(--sklearn-color-unfitted-level-1);\n",
       "}\n",
       "\n",
       ".sk-estimator-doc-link.fitted,\n",
       "a:link.sk-estimator-doc-link.fitted,\n",
       "a:visited.sk-estimator-doc-link.fitted {\n",
       "  /* fitted */\n",
       "  border: var(--sklearn-color-fitted-level-1) 1pt solid;\n",
       "  color: var(--sklearn-color-fitted-level-1);\n",
       "}\n",
       "\n",
       "/* On hover */\n",
       "div.sk-estimator:hover .sk-estimator-doc-link:hover,\n",
       ".sk-estimator-doc-link:hover,\n",
       "div.sk-label-container:hover .sk-estimator-doc-link:hover,\n",
       ".sk-estimator-doc-link:hover {\n",
       "  /* unfitted */\n",
       "  background-color: var(--sklearn-color-unfitted-level-3);\n",
       "  color: var(--sklearn-color-background);\n",
       "  text-decoration: none;\n",
       "}\n",
       "\n",
       "div.sk-estimator.fitted:hover .sk-estimator-doc-link.fitted:hover,\n",
       ".sk-estimator-doc-link.fitted:hover,\n",
       "div.sk-label-container:hover .sk-estimator-doc-link.fitted:hover,\n",
       ".sk-estimator-doc-link.fitted:hover {\n",
       "  /* fitted */\n",
       "  background-color: var(--sklearn-color-fitted-level-3);\n",
       "  color: var(--sklearn-color-background);\n",
       "  text-decoration: none;\n",
       "}\n",
       "\n",
       "/* Span, style for the box shown on hovering the info icon */\n",
       ".sk-estimator-doc-link span {\n",
       "  display: none;\n",
       "  z-index: 9999;\n",
       "  position: relative;\n",
       "  font-weight: normal;\n",
       "  right: .2ex;\n",
       "  padding: .5ex;\n",
       "  margin: .5ex;\n",
       "  width: min-content;\n",
       "  min-width: 20ex;\n",
       "  max-width: 50ex;\n",
       "  color: var(--sklearn-color-text);\n",
       "  box-shadow: 2pt 2pt 4pt #999;\n",
       "  /* unfitted */\n",
       "  background: var(--sklearn-color-unfitted-level-0);\n",
       "  border: .5pt solid var(--sklearn-color-unfitted-level-3);\n",
       "}\n",
       "\n",
       ".sk-estimator-doc-link.fitted span {\n",
       "  /* fitted */\n",
       "  background: var(--sklearn-color-fitted-level-0);\n",
       "  border: var(--sklearn-color-fitted-level-3);\n",
       "}\n",
       "\n",
       ".sk-estimator-doc-link:hover span {\n",
       "  display: block;\n",
       "}\n",
       "\n",
       "/* \"?\"-specific style due to the `<a>` HTML tag */\n",
       "\n",
       "#sk-container-id-1 a.estimator_doc_link {\n",
       "  float: right;\n",
       "  font-size: 1rem;\n",
       "  line-height: 1em;\n",
       "  font-family: monospace;\n",
       "  background-color: var(--sklearn-color-background);\n",
       "  border-radius: 1rem;\n",
       "  height: 1rem;\n",
       "  width: 1rem;\n",
       "  text-decoration: none;\n",
       "  /* unfitted */\n",
       "  color: var(--sklearn-color-unfitted-level-1);\n",
       "  border: var(--sklearn-color-unfitted-level-1) 1pt solid;\n",
       "}\n",
       "\n",
       "#sk-container-id-1 a.estimator_doc_link.fitted {\n",
       "  /* fitted */\n",
       "  border: var(--sklearn-color-fitted-level-1) 1pt solid;\n",
       "  color: var(--sklearn-color-fitted-level-1);\n",
       "}\n",
       "\n",
       "/* On hover */\n",
       "#sk-container-id-1 a.estimator_doc_link:hover {\n",
       "  /* unfitted */\n",
       "  background-color: var(--sklearn-color-unfitted-level-3);\n",
       "  color: var(--sklearn-color-background);\n",
       "  text-decoration: none;\n",
       "}\n",
       "\n",
       "#sk-container-id-1 a.estimator_doc_link.fitted:hover {\n",
       "  /* fitted */\n",
       "  background-color: var(--sklearn-color-fitted-level-3);\n",
       "}\n",
       "</style><div id=\"sk-container-id-1\" class=\"sk-top-container\"><div class=\"sk-text-repr-fallback\"><pre>LogisticRegression(random_state=0)</pre><b>In a Jupyter environment, please rerun this cell to show the HTML representation or trust the notebook. <br />On GitHub, the HTML representation is unable to render, please try loading this page with nbviewer.org.</b></div><div class=\"sk-container\" hidden><div class=\"sk-item\"><div class=\"sk-estimator fitted sk-toggleable\"><input class=\"sk-toggleable__control sk-hidden--visually\" id=\"sk-estimator-id-1\" type=\"checkbox\" checked><label for=\"sk-estimator-id-1\" class=\"sk-toggleable__label fitted sk-toggleable__label-arrow\"><div><div>LogisticRegression</div></div><div><a class=\"sk-estimator-doc-link fitted\" rel=\"noreferrer\" target=\"_blank\" href=\"https://scikit-learn.org/1.6/modules/generated/sklearn.linear_model.LogisticRegression.html\">?<span>Documentation for LogisticRegression</span></a><span class=\"sk-estimator-doc-link fitted\">i<span>Fitted</span></span></div></label><div class=\"sk-toggleable__content fitted\"><pre>LogisticRegression(random_state=0)</pre></div> </div></div></div></div>"
      ],
      "text/plain": [
       "LogisticRegression(random_state=0)"
      ]
     },
     "execution_count": 36,
     "metadata": {},
     "output_type": "execute_result"
    }
   ],
   "source": [
    "model.fit(X_train, y_train)"
   ]
  },
  {
   "cell_type": "markdown",
   "id": "1262f724",
   "metadata": {},
   "source": [
    "#  Predict Test Labels\n",
    "\n",
    "| Code                 | Meaning                             |\n",
    "| -------------------- | ----------------------------------- |\n",
    "| `X_test`             | Unseen features (20% test set)      |\n",
    "| `model.predict(...)` | Uses the trained model to guess `y` |\n",
    "| `y_pred`             | Predicted labels (0 or 1)           |\n"
   ]
  },
  {
   "cell_type": "code",
   "execution_count": 38,
   "id": "b47bd5f6",
   "metadata": {},
   "outputs": [
    {
     "name": "stdout",
     "output_type": "stream",
     "text": [
      "[0 1 0 1 1 1 1 0 1 0 1 1 1 1 0 1 1 1 1 0]\n"
     ]
    }
   ],
   "source": [
    "y_pred = model.predict(X_test)\n",
    "print(y_pred)"
   ]
  },
  {
   "cell_type": "markdown",
   "id": "1fd465b1",
   "metadata": {},
   "source": [
    "# Interpretations:\n",
    "\n",
    "test_size=0.2\n",
    "\n",
    "So 20% of 100 = 20 test samples\n",
    "\n",
    "✅ That’s why y_pred has 20 predictions.\n",
    "\n",
    "Some samples are class 0 (e.g., 1st, 3rd, 8th, 10th)\n",
    "\n",
    "Most are class 1.\n",
    "\n",
    "| Value | Meaning                |\n",
    "| ----- | ---------------------- |\n",
    "| `0`   | Belongs to **class 0** |\n",
    "| `1`   | Belongs to **class 1** |\n",
    "\n",
    "| `0` Label  | `1` Label   |\n",
    "| ---------- | ----------- |\n",
    "| Not Spam   | Spam        |\n",
    "| No Disease | Has Disease |\n",
    "| Negative   | Positive    |\n",
    "\n",
    "I created synthetic data, so the actual meaning of 0 and 1 is not tied to real labels — but in real projects, you assign the meaning.\n",
    "\n"
   ]
  },
  {
   "cell_type": "markdown",
   "id": "bdcb8ebc",
   "metadata": {},
   "source": [
    "# Check Accuracy\n",
    "\n",
    "Link  https://scikit-learn.org/stable/modules/generated/sklearn.metrics.accuracy_score.html\n",
    "\n",
    "| Function                | Purpose                                 |\n",
    "| ----------------------- | --------------------------------------- |\n",
    "| `accuracy_score`        | Compares `y_test` vs `y_pred`           |\n",
    "| `print(\"Accuracy:\", …)` | Shows how many were predicted correctly |\n"
   ]
  },
  {
   "cell_type": "code",
   "execution_count": 39,
   "id": "fe97d746",
   "metadata": {},
   "outputs": [],
   "source": [
    "from sklearn.metrics import accuracy_score"
   ]
  },
  {
   "cell_type": "markdown",
   "id": "7bbf3148",
   "metadata": {},
   "source": [
    "| 🔹 Part          | Type     | Meaning                                      |\n",
    "| ---------------- | -------- | -------------------------------------------- |\n",
    "| `sklearn`        | Package  | The scikit-learn library                     |\n",
    "| `metrics`        | Module   | Evaluation tools (accuracy, precision, etc.) |\n",
    "| `accuracy_score` | Function | Computes how many predictions are correct    |\n"
   ]
  },
  {
   "cell_type": "code",
   "execution_count": 40,
   "id": "d388c6d9",
   "metadata": {},
   "outputs": [
    {
     "name": "stdout",
     "output_type": "stream",
     "text": [
      "0.8\n"
     ]
    }
   ],
   "source": [
    "accuracy = accuracy_score(y_test, y_pred)\n",
    "print(accuracy)"
   ]
  },
  {
   "cell_type": "markdown",
   "id": "8cc6bfd1",
   "metadata": {},
   "source": [
    "# Interpretation:\n",
    "\n",
    "| 🔹 Parameter     | Role                                                         |\n",
    "| ---------------- | ------------------------------------------------------------ |\n",
    "| `y_test`         | True labels (actual values)                                  |\n",
    "| `y_pred`         | Predicted labels from your model                             |\n",
    "| `accuracy_score` | Returns value between `0` and `1` (e.g., 0.80 = 80% correct) |\n",
    "\n",
    "What it mean:\n",
    "\n",
    "Out of all the predictions our model made, 80% were correct.\n",
    "\n",
    "Since our test set had 20 samples:\n",
    "\n",
    "✅ Model got 16 correct.\n",
    "\n",
    "❌ Model got 4 wrong.\n"
   ]
  },
  {
   "cell_type": "markdown",
   "id": "d674fc91",
   "metadata": {},
   "source": [
    "# Confusion Matrix\n",
    "\n",
    "Link: https://scikit-learn.org/stable/modules/generated/sklearn.metrics.confusion_matrix.html\n",
    "\n",
    "| Part               | Type     | Meaning                           |\n",
    "| ------------------ | -------- | --------------------------------- |\n",
    "| `sklearn.metrics`  | Module   | Evaluation tools (metrics)        |\n",
    "| `confusion_matrix` | Function | Compares true vs predicted labels |\n",
    "\n",
    "\n",
    "| Parameter | Meaning                           |\n",
    "| --------- | --------------------------------- |\n",
    "| `y_test`  | Actual labels                     |\n",
    "| `y_pred`  | Model's predicted labels          |\n",
    "| `cm`      | 2x2 matrix showing match/mismatch |\n"
   ]
  },
  {
   "cell_type": "code",
   "execution_count": 41,
   "id": "65daf9b1",
   "metadata": {},
   "outputs": [],
   "source": [
    "from sklearn.metrics import confusion_matrix"
   ]
  },
  {
   "cell_type": "code",
   "execution_count": 42,
   "id": "fc2c5530",
   "metadata": {},
   "outputs": [
    {
     "name": "stdout",
     "output_type": "stream",
     "text": [
      "Confusion Matrix:\n",
      " [[ 5  3]\n",
      " [ 1 11]]\n"
     ]
    }
   ],
   "source": [
    "cm = confusion_matrix(y_test, y_pred)\n",
    "print(\"Confusion Matrix:\\n\", cm)"
   ]
  },
  {
   "cell_type": "markdown",
   "id": "93b33039",
   "metadata": {},
   "source": [
    "# Standard Confusion Matrix Format:\n",
    "\n",
    "|              | Predicted 0 | Predicted 1 |\n",
    "| ------------ | ----------- | ----------- |\n",
    "| **Actual 0** | 5 (TN)      | 3 (FP)      |\n",
    "| **Actual 1** | 1 (FN)      | 11 (TP)     |\n",
    "\n",
    "\n",
    "| Abbreviation | Meaning                               |\n",
    "| ------------ | ------------------------------------- |\n",
    "| **TN**       | True Negative – correctly predicted 0 |\n",
    "| **FP**       | False Positive – wrongly predicted 1  |\n",
    "| **FN**       | False Negative – wrongly predicted 0  |\n",
    "| **TP**       | True Positive – correctly predicted 1 |\n",
    "\n",
    "\n",
    "\n"
   ]
  },
  {
   "cell_type": "markdown",
   "id": "29bdf5ad",
   "metadata": {},
   "source": [
    "Interpreatation:\n",
    "\n",
    "| Term                    | Value | Meaning                                                                    |\n",
    "| ----------------------- | ----- | -------------------------------------------------------------------------- |\n",
    "| **True Negative (TN)**  | 5     | Model correctly predicted **class 0** when it was actually **class 0**     |\n",
    "| **False Positive (FP)** | 3     | Model predicted **class 1**, but it was actually **class 0** (wrong alert) |\n",
    "| **False Negative (FN)** | 1     | Model predicted **class 0**, but it was actually **class 1** (missed case) |\n",
    "| **True Positive (TP)**  | 11    | Model correctly predicted **class 1** when it was actually **class 1**     |\n"
   ]
  },
  {
   "cell_type": "markdown",
   "id": "58c52605",
   "metadata": {},
   "source": [
    "# What does 5 (True Negative) mean?\n",
    "\n",
    "That 5 is a count — not a percentage.\n",
    "\n",
    "Out of 20 test samples, the model correctly predicted 5 times that the class was 0 when it actually was 0."
   ]
  },
  {
   "cell_type": "markdown",
   "id": "a35661aa",
   "metadata": {},
   "source": [
    "#  Precision:\n",
    "Link: https://scikit-learn.org/stable/modules/generated/sklearn.metrics.precision_score.html\n",
    "\n",
    "| Part              | Type     | What It Does                                                 |\n",
    "| ----------------- | -------- | ------------------------------------------------------------ |\n",
    "| `sklearn`         | Package  | Main scikit-learn library                                    |\n",
    "| `metrics`         | Module   | Contains tools to evaluate model performance                 |\n",
    "| `precision_score` | Function | Calculates **how precise** your model is when it predicts 1  |\n",
    "| `recall_score`    | Function | Calculates **how many actual 1s** your model correctly found |\n",
    "\n",
    "\n",
    "\n",
    "| Metric    | Simple Meaning                                                                                   |\n",
    "| --------- | ------------------------------------------------------------------------------------------------ |\n",
    "| Precision | Out of all predicted 1s, how many were actually 1? (How accurate are your positive predictions?) |\n",
    "| Recall    | Out of all actual 1s, how many did the model find? (How well does it catch positives?)           |\n"
   ]
  },
  {
   "cell_type": "markdown",
   "id": "2e06ab5c",
   "metadata": {},
   "source": [
    "#  Simple Rule (Beginner-Friendly): for zero (0) and (1):\n",
    "| Class | Meaning      | Role in Evaluation                         |\n",
    "| ----- | ------------ | ------------------------------------------ |\n",
    "| `1`   | **Positive** | What you are trying to **detect or catch** |\n",
    "| `0`   | **Negative** | Everything **else** (not the target class) |\n",
    "\n",
    "| Dataset Example    | Class `1` (Positive) | Class `0` (Negative)   |\n",
    "| ------------------ | -------------------- | ---------------------- |\n",
    "| Spam detection     | Spam email           | Not spam (ham)         |\n",
    "| Disease prediction | Has disease          | Healthy                |\n",
    "| Loan default       | Defaulted loan       | Paid loan              |\n",
    "| Fraud detection    | Fraud                | Legitimate transaction |\n",
    "\n",
    "## precision/recall:\n",
    "\n",
    "1 = positive class (default in scikit-learn)\n",
    "\n",
    "Metrics are focused on how well our model handles class 1.\n",
    "\n",
    "Positive (1) means the thing we care most about catching.\n",
    "\n",
    "Everything else is Negative (0).\n",
    "\n",
    "\n"
   ]
  },
  {
   "cell_type": "code",
   "execution_count": 43,
   "id": "75a6d1c7",
   "metadata": {},
   "outputs": [],
   "source": [
    "from sklearn.metrics import precision_score, recall_score"
   ]
  },
  {
   "cell_type": "markdown",
   "id": "8cb1ad93",
   "metadata": {},
   "source": [
    "# All parameters of precision:\n",
    "\n",
    "\n",
    "| Parameter       | Default Used Here | Meaning (Beginner-Friendly)                                           |\n",
    "| --------------- | ----------------- | --------------------------------------------------------------------- |\n",
    "| `labels`        | `None`            | Automatically uses unique labels from `y_true` (e.g., `[0, 1]`)       |\n",
    "| `pos_label`     | `1`               | Treats `1` as the **positive class** (the one we care about catching) |\n",
    "| `average`       | `'binary'`        | For binary classification — treats as one-vs-rest                     |\n",
    "| `sample_weight` | `None`            | No weighting applied — treats all samples equally                     |\n",
    "| `zero_division` | `'warn'`          | Warns if precision = 0 due to no predicted positives                  |\n"
   ]
  },
  {
   "cell_type": "code",
   "execution_count": 44,
   "id": "ab80c4c0",
   "metadata": {},
   "outputs": [
    {
     "name": "stdout",
     "output_type": "stream",
     "text": [
      "Precision: 0.7857142857142857\n"
     ]
    }
   ],
   "source": [
    "precision = precision_score(y_test, y_pred)\n",
    "print(\"Precision:\", precision)"
   ]
  },
  {
   "cell_type": "markdown",
   "id": "193ea79b",
   "metadata": {},
   "source": [
    "# Interpretation:\n",
    "\n",
    "Out of all predicted class 1 samples, 78.6% were actually class 1 (correct).\n",
    "\n",
    "\n",
    "Our model predicted 14 samples as class 1:\n",
    "\n",
    "✅ 11 were actually class 1 → True Positives (TP)\n",
    "\n",
    "❌ 3 were actually class 0 → False Positives (FP)\n",
    "\n",
    "This means:\n",
    "Out of all the times the model said “this is class 1,” it was right about 78.6% of the time.\n",
    "\n",
    "\n",
    "precision = TP / (TP + FP) = 11 / (11 + 3) = 11 / 14 ≈ 0.786\n"
   ]
  },
  {
   "cell_type": "markdown",
   "id": "97fcf459",
   "metadata": {},
   "source": [
    "# Recall Formula:\n",
    "\n",
    "recall = TP / (TP + FN)\n",
    "\n",
    "Where:\n",
    "\n",
    "TP (True Positives) = 11\n",
    "\n",
    "FN (False Negatives) = 1\n",
    "\n",
    "\n",
    "Recall Interpretation:\n",
    "If your test set had 12 actual class 1 samples:\n",
    "\n",
    "✅ The model correctly predicted 11 of them as class 1 → True Positives\n",
    "\n",
    "❌ It missed 1 sample, wrongly predicting it as class 0 → False Negative\n",
    "\n",
    "recall = 11 / (11 + 1) = 11 / 12 ≈ 0.917\n",
    "\n",
    "\n",
    "\n",
    "Out of all the real class 1 samples, the model successfully found 91.7% of them."
   ]
  },
  {
   "cell_type": "markdown",
   "id": "f152a512",
   "metadata": {},
   "source": [
    "# Precision vs Recall — Simple Comparison\n",
    "\n",
    "| Metric        | What It Measures                                               | Easy Meaning                                 |\n",
    "| ------------- | -------------------------------------------------------------- | ---------------------------------------------------- |\n",
    "| **Precision** | Out of predicted **positives (1s)**, how many were **correct** | \"When the model says 1, how often is it right?\"      |\n",
    "| **Recall**    | Out of **actual positives (1s)**, how many the model **found** | \"How many real 1s did the model successfully catch?\" |\n"
   ]
  },
  {
   "cell_type": "markdown",
   "id": "a63d5392",
   "metadata": {},
   "source": [
    "# F1 Score:\n",
    "\n",
    "The F1 Score is the harmonic mean of precision and recall — it balances both.\n",
    "\n",
    "It Combines precision and recall into a single score.\n",
    "It’s especially useful when you want a balance between the two.\n",
    "\n",
    "Link: https://scikit-learn.org/stable/modules/generated/sklearn.metrics.f1_score.html\n"
   ]
  },
  {
   "cell_type": "code",
   "execution_count": 45,
   "id": "b2a6a005",
   "metadata": {},
   "outputs": [],
   "source": [
    "from sklearn.metrics import f1_score"
   ]
  },
  {
   "cell_type": "markdown",
   "id": "36de60fc",
   "metadata": {},
   "source": [
    "| 🔹 Part    | Type         | Meaning                       |\n",
    "| ---------- | ------------ | -------------------------------------------------- |\n",
    "| `sklearn`  | **Package**  | The main scikit-learn machine learning package     |\n",
    "| `metrics`  | **Module**   | Contains tools for measuring model performance     |\n",
    "| `f1_score` | **Function** | Calculates the harmonic mean of precision & recall |\n"
   ]
  },
  {
   "cell_type": "code",
   "execution_count": 46,
   "id": "f632c944",
   "metadata": {},
   "outputs": [
    {
     "name": "stdout",
     "output_type": "stream",
     "text": [
      "F1 Score: 0.8461538461538461\n"
     ]
    }
   ],
   "source": [
    "f1 = f1_score(y_test, y_pred)\n",
    "print(\"F1 Score:\", f1)"
   ]
  },
  {
   "cell_type": "markdown",
   "id": "8d98c42b",
   "metadata": {},
   "source": [
    "Simple Interpretation :\n",
    "\n",
    "Our model has a balanced performance —it's about 84.6% good at both:\n",
    "\n",
    "Correctly predicting class 1 (precision)\n",
    "\n",
    "Finding actual class 1s (recall).\n",
    "\n",
    "The F1 score says:VOverall, our model is doing a very good job of catching class 1s without too many false alarms."
   ]
  },
  {
   "cell_type": "markdown",
   "id": "8e4e224b",
   "metadata": {},
   "source": [
    "# Final Evaluation Summary (Based on Results)\n",
    "\n",
    "| Metric        | Value | Simple Interpretation                                          |\n",
    "| ------------- | ----- | -------------------------------------------------------------- |\n",
    "| **Accuracy**  | 0.85  | Model got **85%** of all test samples correct                  |\n",
    "| **Precision** | 0.786 | When model predicted `1`, it was correct **78.6%** of the time |\n",
    "| **Recall**    | 0.917 | Model found **91.7%** of all actual `1`s (positives)           |\n",
    "| **F1 Score**  | 0.846 | Balanced score between precision & recall (**84.6%**)          |\n",
    "\n",
    "Our model is doing very well overall. It catches most of the real class 1s, and usually predicts them correctly.\n"
   ]
  },
  {
   "cell_type": "markdown",
   "id": "f71e474d",
   "metadata": {},
   "source": [
    "# Precision-Recall Curve and ROC curve.\n",
    "\n",
    "### Link for ROC curve :\n",
    "https://scikit-learn.org/stable/modules/generated/sklearn.metrics.roc_curve.html"
   ]
  },
  {
   "cell_type": "code",
   "execution_count": 48,
   "id": "9cf43507",
   "metadata": {},
   "outputs": [
    {
     "name": "stdout",
     "output_type": "stream",
     "text": [
      "Requirement already satisfied: matplotlib in c:\\users\\naren\\anaconda3\\envs\\scikit_learn\\lib\\site-packages (3.10.3)\n",
      "Requirement already satisfied: contourpy>=1.0.1 in c:\\users\\naren\\anaconda3\\envs\\scikit_learn\\lib\\site-packages (from matplotlib) (1.3.2)\n",
      "Requirement already satisfied: cycler>=0.10 in c:\\users\\naren\\anaconda3\\envs\\scikit_learn\\lib\\site-packages (from matplotlib) (0.12.1)\n",
      "Requirement already satisfied: fonttools>=4.22.0 in c:\\users\\naren\\anaconda3\\envs\\scikit_learn\\lib\\site-packages (from matplotlib) (4.58.0)\n",
      "Requirement already satisfied: kiwisolver>=1.3.1 in c:\\users\\naren\\anaconda3\\envs\\scikit_learn\\lib\\site-packages (from matplotlib) (1.4.8)\n",
      "Requirement already satisfied: numpy>=1.23 in c:\\users\\naren\\anaconda3\\envs\\scikit_learn\\lib\\site-packages (from matplotlib) (2.2.6)\n",
      "Requirement already satisfied: packaging>=20.0 in c:\\users\\naren\\appdata\\roaming\\python\\python311\\site-packages (from matplotlib) (24.2)\n",
      "Requirement already satisfied: pillow>=8 in c:\\users\\naren\\anaconda3\\envs\\scikit_learn\\lib\\site-packages (from matplotlib) (11.2.1)\n",
      "Requirement already satisfied: pyparsing>=2.3.1 in c:\\users\\naren\\anaconda3\\envs\\scikit_learn\\lib\\site-packages (from matplotlib) (3.2.3)\n",
      "Requirement already satisfied: python-dateutil>=2.7 in c:\\users\\naren\\appdata\\roaming\\python\\python311\\site-packages (from matplotlib) (2.9.0.post0)\n",
      "Requirement already satisfied: six>=1.5 in c:\\users\\naren\\appdata\\roaming\\python\\python311\\site-packages (from python-dateutil>=2.7->matplotlib) (1.17.0)\n",
      "Note: you may need to restart the kernel to use updated packages.\n"
     ]
    }
   ],
   "source": [
    "pip install matplotlib"
   ]
  },
  {
   "cell_type": "code",
   "execution_count": 49,
   "id": "23f30edf",
   "metadata": {},
   "outputs": [],
   "source": [
    "from sklearn.metrics import roc_curve, roc_auc_score\n",
    "import matplotlib.pyplot as plt"
   ]
  },
  {
   "cell_type": "markdown",
   "id": "4269a21e",
   "metadata": {},
   "source": [
    "#  Full Structure Breakdown:\n",
    "| Code Part       | Type         | Meaning (Beginner-Friendly)                                 |\n",
    "| --------------- | ------------ | ----------------------------------------------------------- |\n",
    "| `sklearn`       | **Package**  | Main machine learning library (scikit-learn)                |\n",
    "| `metrics`       | **Module**   | Submodule with model evaluation tools (e.g., accuracy, ROC) |\n",
    "| `roc_curve`     | **Function** | Calculates FPR & TPR for various thresholds                 |\n",
    "| `roc_auc_score` | **Function** | Calculates area under the ROC curve                         |\n",
    "| `matplotlib`    | **Library**  | Python plotting library                                     |\n",
    "| `pyplot`        | **Module**   | Interface for plotting (like MATLAB)                        |\n",
    "| `plt`           | **Alias**    | Short name for `matplotlib.pyplot`                          |\n"
   ]
  },
  {
   "cell_type": "markdown",
   "id": "a6a8ae37",
   "metadata": {},
   "source": [
    "# Parameters for ROC curve  & How to Get Them:\n",
    "\n",
    "| Variable     | What It Is                             | How to Get It                                 |\n",
    "| ------------ | -------------------------------------- | --------------------------------------------- |\n",
    "| `y_test`     | True labels (0 or 1)                   | From your test split: `train_test_split(...)` |\n",
    "| `y_proba`    | Predicted probabilities for class 1    | `model.predict_proba(X_test)[:, 1]`           |\n",
    "| `fpr`        | False Positive Rate values             | Comes from `roc_curve(y_test, y_proba)`       |\n",
    "| `tpr`        | True Positive Rate (recall) values     | Comes from `roc_curve(y_test, y_proba)`       |\n",
    "| `thresholds` | Decision thresholds for classification | Comes from `roc_curve(y_test, y_proba)`       |\n",
    "| `auc_score`  | Area under the ROC curve               | `roc_auc_score(y_test, y_proba)`              |\n"
   ]
  },
  {
   "cell_type": "markdown",
   "id": "a11b7b4d",
   "metadata": {},
   "source": [
    "# Link of  predict_proba(X) for calculating ROC:\n",
    "\n",
    "https://scikit-learn.org/stable/modules/generated/sklearn.linear_model.LogisticRegression.html#sklearn.linear_model.LogisticRegression.predict_proba"
   ]
  },
  {
   "cell_type": "code",
   "execution_count": 51,
   "id": "732465c2",
   "metadata": {},
   "outputs": [],
   "source": [
    "# Step 1: Get prediction probabilities for class 1\n",
    "y_proba = model.predict_proba(X_test)[:, 1]\n",
    "\n",
    "# model.predict_proba(X_test); Return isa NumPy array\n",
    "\n",
    "# Shape: (n_samples, n_classes) → in our case: (20, 2)\n",
    "\n",
    "# [:, 1]: It selects only the probabilities for class 1.\n",
    "\n",
    "# : → all rows and 1 → column index for class 1\n",
    "\n",
    "# This gives a 1D array of predicted probabilities for class 1 only — used in ROC curve."
   ]
  },
  {
   "cell_type": "markdown",
   "id": "a5b1f2b3",
   "metadata": {},
   "source": [
    "# Link for ROC curve\n",
    "\n",
    " https://scikit-learn.org/stable/modules/generated/sklearn.metrics.roc_curve.html\n",
    "\n",
    " # Link for roc_auc_score():\n",
    "\n",
    " https://scikit-learn.org/stable/modules/generated/sklearn.metrics.roc_auc_score.html"
   ]
  },
  {
   "cell_type": "markdown",
   "id": "7b89c0c5",
   "metadata": {},
   "source": [
    "#  Plot Predicted Probability Distribution (Histogram)"
   ]
  },
  {
   "cell_type": "code",
   "execution_count": 56,
   "id": "d9d7c4da",
   "metadata": {},
   "outputs": [
    {
     "data": {
      "image/png": "[encoded data removed]",
      "text/plain": [
       "<Figure size 600x400 with 1 Axes>"
      ]
     },
     "metadata": {},
     "output_type": "display_data"
    }
   ],
   "source": [
    "import matplotlib.pyplot as plt\n",
    "\n",
    "# Get predicted probabilities for class 1\n",
    "y_proba = model.predict_proba(X_test)[:, 1]\n",
    "\n",
    "# Plot histogram\n",
    "plt.figure(figsize=(6, 4))\n",
    "plt.hist(y_proba, bins=10, edgecolor='black')\n",
    "plt.title(\"Predicted Probability Distribution\")\n",
    "plt.xlabel(\"Predicted Probability for Class 1\")\n",
    "plt.ylabel(\"Number of Samples\")\n",
    "plt.grid(True)\n",
    "plt.show()"
   ]
  },
  {
   "cell_type": "markdown",
   "id": "ea647b51",
   "metadata": {},
   "source": [
    "# Interpretation:\n",
    "X-axis: Predicted probability that a sample belongs to Class 1\n",
    "\n",
    "Y-axis: Number of samples with that predicted probability\n",
    "\n",
    "| Observation                                      | Meaning                                                                         |\n",
    "| ------------------------------------------------ | ------------------------------------------------------------------------------- |\n",
    "| A cluster of bars near **0.9–1.0**               | The model is very confident that these samples are Class 1                      |\n",
    "| Some bars near **0.0**                           | The model is very confident that these samples are NOT Class 1 (likely Class 0) |\n",
    "| Sparse values in the **middle** (around 0.4–0.6) | The model rarely gives \"uncertain\" predictions — which is good for confidence!  |\n"
   ]
  },
  {
   "cell_type": "markdown",
   "id": "e00b6718",
   "metadata": {},
   "source": [
    "#  Classification Report"
   ]
  },
  {
   "cell_type": "code",
   "execution_count": 57,
   "id": "23e30a2b",
   "metadata": {},
   "outputs": [
    {
     "name": "stdout",
     "output_type": "stream",
     "text": [
      "Classification Report:\n",
      "              precision    recall  f1-score   support\n",
      "\n",
      "           0       0.83      0.62      0.71         8\n",
      "           1       0.79      0.92      0.85        12\n",
      "\n",
      "    accuracy                           0.80        20\n",
      "   macro avg       0.81      0.77      0.78        20\n",
      "weighted avg       0.80      0.80      0.79        20\n",
      "\n"
     ]
    }
   ],
   "source": [
    "from sklearn.metrics import classification_report\n",
    "\n",
    "# Print classification report\n",
    "print(\"Classification Report:\")\n",
    "print(classification_report(y_test, model.predict(X_test)))"
   ]
  },
  {
   "cell_type": "code",
   "execution_count": 52,
   "id": "3852abc0",
   "metadata": {},
   "outputs": [],
   "source": [
    "# Step 2: Get ROC curve data\n",
    "fpr, tpr, thresholds = roc_curve(y_test, y_proba)"
   ]
  },
  {
   "cell_type": "code",
   "execution_count": 54,
   "id": "f2542ddb",
   "metadata": {},
   "outputs": [],
   "source": [
    "# Step 3: Get AUC score\n",
    "auc_score = roc_auc_score(y_test, y_proba)"
   ]
  },
  {
   "cell_type": "markdown",
   "id": "8b82ba6e",
   "metadata": {},
   "source": [
    "# Official Documentation Links:\n",
    "\n",
    "| Function or Feature             | Official Doc Link                                                                                                                                                                                                                        |\n",
    "| ------------------------------- | ---------------------------------------------------------------------------------------------------------------------------------------------------------------------------------------------------------------------------------------- |\n",
    "| `plt.figure()`                  | [https://matplotlib.org/stable/api/\\_as\\_gen/matplotlib.pyplot.figure.html](https://matplotlib.org/stable/api/_as_gen/matplotlib.pyplot.figure.html)                                                                                     |\n",
    "| `plt.plot()`                    | [https://matplotlib.org/stable/api/\\_as\\_gen/matplotlib.pyplot.plot.html](https://matplotlib.org/stable/api/_as_gen/matplotlib.pyplot.plot.html)                                                                                         |\n",
    "| `plt.xlabel()` / `plt.ylabel()` | [https://matplotlib.org/stable/api/\\_as\\_gen/matplotlib.pyplot.xlabel.html](https://matplotlib.org/stable/api/_as_gen/matplotlib.pyplot.xlabel.html) / [ylabel](https://matplotlib.org/stable/api/_as_gen/matplotlib.pyplot.ylabel.html) |\n",
    "| `plt.title()`                   | [https://matplotlib.org/stable/api/\\_as\\_gen/matplotlib.pyplot.title.html](https://matplotlib.org/stable/api/_as_gen/matplotlib.pyplot.title.html)                                                                                       |\n",
    "| `plt.legend()`                  | [https://matplotlib.org/stable/api/\\_as\\_gen/matplotlib.pyplot.legend.html](https://matplotlib.org/stable/api/_as_gen/matplotlib.pyplot.legend.html)                                                                                     |\n",
    "| `plt.grid()`                    | [https://matplotlib.org/stable/api/\\_as\\_gen/matplotlib.pyplot.grid.html](https://matplotlib.org/stable/api/_as_gen/matplotlib.pyplot.grid.html)                                                                                         |\n",
    "| `plt.show()`                    | [https://matplotlib.org/stable/api/\\_as\\_gen/matplotlib.pyplot.show.html](https://matplotlib.org/stable/api/_as_gen/matplotlib.pyplot.show.html)                                                                                         |\n"
   ]
  },
  {
   "cell_type": "code",
   "execution_count": 55,
   "id": "2b8eaba3",
   "metadata": {},
   "outputs": [
    {
     "data": {
      "image/png": "[encoded data removed]",
      "text/plain": [
       "<Figure size 600x400 with 1 Axes>"
      ]
     },
     "metadata": {},
     "output_type": "display_data"
    }
   ],
   "source": [
    "# Step 4: Plot the ROC Curve\n",
    "plt.figure(figsize=(6, 4))\n",
    "plt.plot(fpr, tpr, label=f\"ROC Curve (AUC = {auc_score:.2f})\")\n",
    "plt.plot([0, 1], [0, 1], linestyle='--', color='gray')  # baseline\n",
    "plt.xlabel(\"False Positive Rate\")\n",
    "plt.ylabel(\"True Positive Rate\")\n",
    "plt.title(\"ROC Curve\")\n",
    "plt.legend()\n",
    "plt.grid(True)\n",
    "plt.show()"
   ]
  },
  {
   "cell_type": "markdown",
   "id": "511d6031",
   "metadata": {},
   "source": [
    "# Interpretation of ROC Curve:\n",
    "\n",
    "| Metric | Value | Meaning                                                      |\n",
    "| ------ | ----- | ------------------------------------------------------------ |\n",
    "| AUC    | 0.91  | Excellent ability to distinguish between Class 0 and Class 1 |\n",
    "\n",
    "\n",
    "##  AUC Value Guide:\n",
    "\n",
    "| AUC Range   | Meaning          |\n",
    "| ----------- | ---------------- |\n",
    "| 0.90 – 1.00 | Excellent        |\n",
    "| 0.80 – 0.90 | Good             |\n",
    "| 0.70 – 0.80 | Fair             |\n",
    "| 0.50 – 0.70 | Poor to No Skill |\n",
    "| 0.50        | Random Guessing  |\n",
    "\n",
    "\n",
    "## Curve vs. Diagonal\n",
    "\n",
    "| Curve Element  | Meaning                                                    |\n",
    "| -------------- | ---------------------------------------------------------- |\n",
    "| Blue Curve     | Your model’s performance (ROC curve)                       |\n",
    "| Gray Diagonal  | Baseline for random guessing                               |\n",
    "| Interpretation | Curve is well above diagonal → model is better than random |\n",
    "\n",
    "\n",
    "##  TPR vs. FPR:\n",
    "\n",
    "| Term                      | Description                                                           |\n",
    "| ------------------------- | --------------------------------------------------------------------- |\n",
    "| TPR (True Positive Rate)  | Also called sensitivity – how many positives are correctly identified |\n",
    "| FPR (False Positive Rate) | 1 – specificity – how many false positives are made                   |\n",
    "| Observation               | TPR = 1.0 is reached early with low FPR → very few false alarms       |\n",
    "\n",
    "## Final conclusion:\n",
    "\n",
    "| Summary     | Interpretation                                                  |\n",
    "| ----------- | --------------------------------------------------------------- |\n",
    "| Model skill | Very good at telling who is class 1 and who is not              |\n",
    "| AUC = 0.91  | Model gets it right 91% of the time — much better than guessing |\n"
   ]
  }
 ],
 "metadata": {
  "kernelspec": {
   "display_name": "scikit_learn",
   "language": "python",
   "name": "python3"
  },
  "language_info": {
   "codemirror_mode": {
    "name": "ipython",
    "version": 3
   },
   "file_extension": ".py",
   "mimetype": "text/x-python",
   "name": "python",
   "nbconvert_exporter": "python",
   "pygments_lexer": "ipython3",
   "version": "3.11.11"
  }
 },
 "nbformat": 4,
 "nbformat_minor": 5
}
